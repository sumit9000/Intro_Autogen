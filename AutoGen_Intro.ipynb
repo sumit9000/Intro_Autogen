{
 "cells": [
  {
   "cell_type": "markdown",
   "id": "97ed5962-0873-436a-a3aa-3554c0453884",
   "metadata": {},
   "source": [
    "# Problem Statement\n",
    "1. Startup developed a light weight water bottle\n",
    "2. Target Audience - School kids aged 6-16\n",
    "3. As a marketing associate, identify the most effective chennels and craft compelling content\n",
    "4. Budget - 2000 USD\n",
    "Build an agentic system that can help with the same using sequential chat."
   ]
  },
  {
   "cell_type": "code",
   "execution_count": 4,
   "id": "0bcab0a4-759e-4453-a95f-3344190fca59",
   "metadata": {},
   "outputs": [
    {
     "name": "stdin",
     "output_type": "stream",
     "text": [
      "Enter your api key here:  ········\n"
     ]
    }
   ],
   "source": [
    "from getpass import getpass\n",
    "OPENAI_KEY=getpass(\"Enter your api key here: \")"
   ]
  },
  {
   "cell_type": "code",
   "execution_count": 20,
   "id": "39cd7c6c-d956-4993-b222-37b487cbbc67",
   "metadata": {},
   "outputs": [],
   "source": [
    "import os\n",
    "os.environ['OPENAI_API_KEY'] = OPENAI_KEY"
   ]
  },
  {
   "cell_type": "markdown",
   "id": "b3a8acdd-1c19-4d18-b6d7-b4a9fd799c83",
   "metadata": {},
   "source": [
    "# Sequential Chat"
   ]
  },
  {
   "cell_type": "code",
   "execution_count": 23,
   "id": "cc1e1edd-6dd3-48a3-955f-f3f3c8551a5f",
   "metadata": {},
   "outputs": [],
   "source": [
    "startgey_config_list= {\"config_list\":[{\"model\":\"gpt-4o-mini\"}]}"
   ]
  },
  {
   "cell_type": "code",
   "execution_count": 25,
   "id": "4a3d115b-a5ae-4bf4-adee-8ef026c5374c",
   "metadata": {},
   "outputs": [
    {
     "name": "stdout",
     "output_type": "stream",
     "text": [
      "Collecting ag2[openai]\n",
      "  Downloading ag2-0.9.1.post0-py3-none-any.whl.metadata (34 kB)\n",
      "Requirement already satisfied: anyio<5.0.0,>=3.0.0 in c:\\users\\kiit\\anaconda3\\lib\\site-packages (from ag2[openai]) (4.2.0)\n",
      "Collecting asyncer==0.0.8 (from ag2[openai])\n",
      "  Downloading asyncer-0.0.8-py3-none-any.whl.metadata (6.7 kB)\n",
      "Collecting diskcache (from ag2[openai])\n",
      "  Downloading diskcache-5.6.3-py3-none-any.whl.metadata (20 kB)\n",
      "Collecting docker (from ag2[openai])\n",
      "  Downloading docker-7.1.0-py3-none-any.whl.metadata (3.8 kB)\n",
      "Collecting httpx<1,>=0.28.1 (from ag2[openai])\n",
      "  Using cached httpx-0.28.1-py3-none-any.whl.metadata (7.1 kB)\n",
      "Requirement already satisfied: packaging in c:\\users\\kiit\\anaconda3\\lib\\site-packages (from ag2[openai]) (23.2)\n",
      "Requirement already satisfied: pydantic<3,>=2.6.1 in c:\\users\\kiit\\anaconda3\\lib\\site-packages (from ag2[openai]) (2.8.2)\n",
      "Requirement already satisfied: python-dotenv in c:\\users\\kiit\\anaconda3\\lib\\site-packages (from ag2[openai]) (0.21.0)\n",
      "Collecting termcolor (from ag2[openai])\n",
      "  Downloading termcolor-3.1.0-py3-none-any.whl.metadata (6.4 kB)\n",
      "Requirement already satisfied: tiktoken in c:\\users\\kiit\\anaconda3\\lib\\site-packages (from ag2[openai]) (0.9.0)\n",
      "Requirement already satisfied: openai>=1.66.2 in c:\\users\\kiit\\anaconda3\\lib\\site-packages (from ag2[openai]) (1.75.0)\n",
      "Requirement already satisfied: idna>=2.8 in c:\\users\\kiit\\anaconda3\\lib\\site-packages (from anyio<5.0.0,>=3.0.0->ag2[openai]) (3.7)\n",
      "Requirement already satisfied: sniffio>=1.1 in c:\\users\\kiit\\anaconda3\\lib\\site-packages (from anyio<5.0.0,>=3.0.0->ag2[openai]) (1.3.0)\n",
      "Requirement already satisfied: certifi in c:\\users\\kiit\\anaconda3\\lib\\site-packages (from httpx<1,>=0.28.1->ag2[openai]) (2025.1.31)\n",
      "Requirement already satisfied: httpcore==1.* in c:\\users\\kiit\\anaconda3\\lib\\site-packages (from httpx<1,>=0.28.1->ag2[openai]) (1.0.2)\n",
      "Requirement already satisfied: h11<0.15,>=0.13 in c:\\users\\kiit\\anaconda3\\lib\\site-packages (from httpcore==1.*->httpx<1,>=0.28.1->ag2[openai]) (0.14.0)\n",
      "Requirement already satisfied: distro<2,>=1.7.0 in c:\\users\\kiit\\anaconda3\\lib\\site-packages (from openai>=1.66.2->ag2[openai]) (1.9.0)\n",
      "Requirement already satisfied: jiter<1,>=0.4.0 in c:\\users\\kiit\\anaconda3\\lib\\site-packages (from openai>=1.66.2->ag2[openai]) (0.9.0)\n",
      "Requirement already satisfied: tqdm>4 in c:\\users\\kiit\\anaconda3\\lib\\site-packages (from openai>=1.66.2->ag2[openai]) (4.66.5)\n",
      "Requirement already satisfied: typing-extensions<5,>=4.11 in c:\\users\\kiit\\anaconda3\\lib\\site-packages (from openai>=1.66.2->ag2[openai]) (4.11.0)\n",
      "Requirement already satisfied: annotated-types>=0.4.0 in c:\\users\\kiit\\anaconda3\\lib\\site-packages (from pydantic<3,>=2.6.1->ag2[openai]) (0.6.0)\n",
      "Requirement already satisfied: pydantic-core==2.20.1 in c:\\users\\kiit\\anaconda3\\lib\\site-packages (from pydantic<3,>=2.6.1->ag2[openai]) (2.20.1)\n",
      "Requirement already satisfied: pywin32>=304 in c:\\users\\kiit\\anaconda3\\lib\\site-packages (from docker->ag2[openai]) (305.1)\n",
      "Requirement already satisfied: requests>=2.26.0 in c:\\users\\kiit\\anaconda3\\lib\\site-packages (from docker->ag2[openai]) (2.32.3)\n",
      "Requirement already satisfied: urllib3>=1.26.0 in c:\\users\\kiit\\anaconda3\\lib\\site-packages (from docker->ag2[openai]) (2.2.3)\n",
      "Requirement already satisfied: regex>=2022.1.18 in c:\\users\\kiit\\anaconda3\\lib\\site-packages (from tiktoken->ag2[openai]) (2024.9.11)\n",
      "Requirement already satisfied: charset-normalizer<4,>=2 in c:\\users\\kiit\\anaconda3\\lib\\site-packages (from requests>=2.26.0->docker->ag2[openai]) (3.3.2)\n",
      "Requirement already satisfied: colorama in c:\\users\\kiit\\anaconda3\\lib\\site-packages (from tqdm>4->openai>=1.66.2->ag2[openai]) (0.4.6)\n",
      "Downloading asyncer-0.0.8-py3-none-any.whl (9.2 kB)\n",
      "Using cached httpx-0.28.1-py3-none-any.whl (73 kB)\n",
      "Downloading ag2-0.9.1.post0-py3-none-any.whl (787 kB)\n",
      "   ---------------------------------------- 0.0/787.5 kB ? eta -:--:--\n",
      "   ---------------------------------------- 787.5/787.5 kB 8.5 MB/s eta 0:00:00\n",
      "Downloading diskcache-5.6.3-py3-none-any.whl (45 kB)\n",
      "Downloading docker-7.1.0-py3-none-any.whl (147 kB)\n",
      "Downloading termcolor-3.1.0-py3-none-any.whl (7.7 kB)\n",
      "Installing collected packages: termcolor, diskcache, httpx, docker, asyncer, ag2\n",
      "  Attempting uninstall: httpx\n",
      "    Found existing installation: httpx 0.27.0\n",
      "    Uninstalling httpx-0.27.0:\n",
      "      Successfully uninstalled httpx-0.27.0\n",
      "Successfully installed ag2-0.9.1.post0 asyncer-0.0.8 diskcache-5.6.3 docker-7.1.0 httpx-0.28.1 termcolor-3.1.0\n",
      "Requirement already satisfied: openai in c:\\users\\kiit\\anaconda3\\lib\\site-packages (1.75.0)\n",
      "Collecting openai\n",
      "  Downloading openai-1.82.0-py3-none-any.whl.metadata (25 kB)\n",
      "Requirement already satisfied: anyio<5,>=3.5.0 in c:\\users\\kiit\\anaconda3\\lib\\site-packages (from openai) (4.2.0)\n",
      "Requirement already satisfied: distro<2,>=1.7.0 in c:\\users\\kiit\\anaconda3\\lib\\site-packages (from openai) (1.9.0)\n",
      "Requirement already satisfied: httpx<1,>=0.23.0 in c:\\users\\kiit\\anaconda3\\lib\\site-packages (from openai) (0.28.1)\n",
      "Requirement already satisfied: jiter<1,>=0.4.0 in c:\\users\\kiit\\anaconda3\\lib\\site-packages (from openai) (0.9.0)\n",
      "Requirement already satisfied: pydantic<3,>=1.9.0 in c:\\users\\kiit\\anaconda3\\lib\\site-packages (from openai) (2.8.2)\n",
      "Requirement already satisfied: sniffio in c:\\users\\kiit\\anaconda3\\lib\\site-packages (from openai) (1.3.0)\n",
      "Requirement already satisfied: tqdm>4 in c:\\users\\kiit\\anaconda3\\lib\\site-packages (from openai) (4.66.5)\n",
      "Requirement already satisfied: typing-extensions<5,>=4.11 in c:\\users\\kiit\\anaconda3\\lib\\site-packages (from openai) (4.11.0)\n",
      "Requirement already satisfied: idna>=2.8 in c:\\users\\kiit\\anaconda3\\lib\\site-packages (from anyio<5,>=3.5.0->openai) (3.7)\n",
      "Requirement already satisfied: certifi in c:\\users\\kiit\\anaconda3\\lib\\site-packages (from httpx<1,>=0.23.0->openai) (2025.1.31)\n",
      "Requirement already satisfied: httpcore==1.* in c:\\users\\kiit\\anaconda3\\lib\\site-packages (from httpx<1,>=0.23.0->openai) (1.0.2)\n",
      "Requirement already satisfied: h11<0.15,>=0.13 in c:\\users\\kiit\\anaconda3\\lib\\site-packages (from httpcore==1.*->httpx<1,>=0.23.0->openai) (0.14.0)\n",
      "Requirement already satisfied: annotated-types>=0.4.0 in c:\\users\\kiit\\anaconda3\\lib\\site-packages (from pydantic<3,>=1.9.0->openai) (0.6.0)\n",
      "Requirement already satisfied: pydantic-core==2.20.1 in c:\\users\\kiit\\anaconda3\\lib\\site-packages (from pydantic<3,>=1.9.0->openai) (2.20.1)\n",
      "Requirement already satisfied: colorama in c:\\users\\kiit\\anaconda3\\lib\\site-packages (from tqdm>4->openai) (0.4.6)\n",
      "Downloading openai-1.82.0-py3-none-any.whl (720 kB)\n",
      "   ---------------------------------------- 0.0/720.4 kB ? eta -:--:--\n",
      "   --------------------------------------- 720.4/720.4 kB 14.8 MB/s eta 0:00:00\n",
      "Installing collected packages: openai\n",
      "  Attempting uninstall: openai\n",
      "    Found existing installation: openai 1.75.0\n",
      "    Uninstalling openai-1.75.0:\n",
      "      Successfully uninstalled openai-1.75.0\n",
      "Successfully installed openai-1.82.0\n"
     ]
    }
   ],
   "source": [
    "!pip install ag2[openai]\n",
    "!pip install --upgrade openai"
   ]
  },
  {
   "cell_type": "code",
   "execution_count": 43,
   "id": "79a29e7b-ce5d-4dfe-bac2-7556eb4adb34",
   "metadata": {},
   "outputs": [
    {
     "name": "stdout",
     "output_type": "stream",
     "text": [
      "Requirement already satisfied: ipython in c:\\users\\kiit\\anaconda3\\lib\\site-packages (8.27.0)\n",
      "Requirement already satisfied: decorator in c:\\users\\kiit\\anaconda3\\lib\\site-packages (from ipython) (5.1.1)\n",
      "Requirement already satisfied: jedi>=0.16 in c:\\users\\kiit\\anaconda3\\lib\\site-packages (from ipython) (0.19.1)\n",
      "Requirement already satisfied: matplotlib-inline in c:\\users\\kiit\\anaconda3\\lib\\site-packages (from ipython) (0.1.6)\n",
      "Requirement already satisfied: prompt-toolkit<3.1.0,>=3.0.41 in c:\\users\\kiit\\anaconda3\\lib\\site-packages (from ipython) (3.0.43)\n",
      "Requirement already satisfied: pygments>=2.4.0 in c:\\users\\kiit\\anaconda3\\lib\\site-packages (from ipython) (2.15.1)\n",
      "Requirement already satisfied: stack-data in c:\\users\\kiit\\anaconda3\\lib\\site-packages (from ipython) (0.2.0)\n",
      "Requirement already satisfied: traitlets>=5.13.0 in c:\\users\\kiit\\anaconda3\\lib\\site-packages (from ipython) (5.14.3)\n",
      "Requirement already satisfied: colorama in c:\\users\\kiit\\anaconda3\\lib\\site-packages (from ipython) (0.4.6)\n",
      "Requirement already satisfied: parso<0.9.0,>=0.8.3 in c:\\users\\kiit\\anaconda3\\lib\\site-packages (from jedi>=0.16->ipython) (0.8.3)\n",
      "Requirement already satisfied: wcwidth in c:\\users\\kiit\\anaconda3\\lib\\site-packages (from prompt-toolkit<3.1.0,>=3.0.41->ipython) (0.2.5)\n",
      "Requirement already satisfied: executing in c:\\users\\kiit\\anaconda3\\lib\\site-packages (from stack-data->ipython) (0.8.3)\n",
      "Requirement already satisfied: asttokens in c:\\users\\kiit\\anaconda3\\lib\\site-packages (from stack-data->ipython) (2.0.5)\n",
      "Requirement already satisfied: pure-eval in c:\\users\\kiit\\anaconda3\\lib\\site-packages (from stack-data->ipython) (0.2.2)\n",
      "Requirement already satisfied: six in c:\\users\\kiit\\anaconda3\\lib\\site-packages (from asttokens->stack-data->ipython) (1.16.0)\n"
     ]
    }
   ],
   "source": [
    "!pip install ipython"
   ]
  },
  {
   "cell_type": "code",
   "execution_count": 49,
   "id": "240e292c-cd5a-45f8-a844-94c919a3cadf",
   "metadata": {},
   "outputs": [],
   "source": [
    "import autogen \n",
    "from autogen import AssistantAgent\n",
    "from IPython.display import display, Markdown "
   ]
  },
  {
   "cell_type": "code",
   "execution_count": 55,
   "id": "5f684287-20a1-4ddb-8cb2-c977c4c93a4e",
   "metadata": {},
   "outputs": [],
   "source": [
    "strategy_creator=autogen.AssistantAgent(name=\"strategy_creator\",llm_config=startgey_config_list,\n",
    "                                       system_message=\"\"\"you are a logical marketing manager tasked with crafting Gather details\n",
    "                                       on the product, target audiance, and the best marketing channels which will get the product \n",
    "                                       marketing strategy budget. Then identify the best marketing channels which will get product \n",
    "                                       maximum visibility.\n",
    "                                        \"\"\")"
   ]
  },
  {
   "cell_type": "code",
   "execution_count": 57,
   "id": "5e9676be-101f-4150-99ee-18a0abbdaf89",
   "metadata": {},
   "outputs": [],
   "source": [
    "content_creator=autogen.AssistantAgent(name=\"strategy_creator\",llm_config=startgey_config_list,\n",
    "                                       system_message=\"\"\"you are a Content Executor, a creative AI agent.\n",
    "                                       Your task is to craft engaging, chennel-specific content that aligns with the marketing strategy, \n",
    "                                       ensuring it captures attention and resonates with target audience.\n",
    "                                        \"\"\")"
   ]
  },
  {
   "cell_type": "code",
   "execution_count": 61,
   "id": "e9c6e55f-9c97-401a-bf8c-3b5839616c99",
   "metadata": {},
   "outputs": [],
   "source": [
    "user_proxy=autogen.UserProxyAgent(name=\"User\",human_input_mode='ALWAYS',\n",
    "                                 is_termination_msg=lambda x:x.get(\"content\",\"\") and x.get(\"content\",\"\").rstrip().endswith(\"Terminate\"),\n",
    "                                 code_execution_config=False)"
   ]
  },
  {
   "cell_type": "code",
   "execution_count": 63,
   "id": "eee2cd27-b86a-4aff-992b-4ee6195e3d90",
   "metadata": {},
   "outputs": [],
   "source": [
    "product_details=[\"\"\"water bottle for school children under the age of 16 yrs.The marketing budget is 2000USD \"\"\"]"
   ]
  },
  {
   "cell_type": "code",
   "execution_count": 67,
   "id": "75117204-c357-4a19-bf57-3cd867c81636",
   "metadata": {},
   "outputs": [],
   "source": [
    "writing_task=[\"\"\"Write an engaging content for the mentioned product and channel\"\"\"]"
   ]
  },
  {
   "cell_type": "code",
   "execution_count": 69,
   "id": "88579b3a-7be3-47e9-b380-a2fd05ce8cd4",
   "metadata": {},
   "outputs": [
    {
     "name": "stdout",
     "output_type": "stream",
     "text": [
      "\u001b[34m\n",
      "********************************************************************************\u001b[0m\n",
      "\u001b[34mStarting a new chat....\u001b[0m\n",
      "\u001b[34m\n",
      "********************************************************************************\u001b[0m\n",
      "\u001b[33mUser\u001b[0m (to strategy_creator):\n",
      "\n",
      "water bottle for school children under the age of 16 yrs.The marketing budget is 2000USD \n",
      "\n",
      "--------------------------------------------------------------------------------\n",
      "\u001b[33mstrategy_creator\u001b[0m (to User):\n",
      "\n",
      "### Product Details\n",
      "- **Product**: Water Bottle\n",
      "- **Target Audience**: School children under the age of 16 years\n",
      "- **Product Features**:\n",
      "  - BPA-free material\n",
      "  - Lightweight and durable\n",
      "  - Multiple color options and fun designs\n",
      "  - Leak-proof lid\n",
      "  - Easy to grip and carry\n",
      "  - Optional custom name engraving\n",
      "  - Capacity: 500 ml (ideal for school)\n",
      "\n",
      "### Target Audience\n",
      "- **Demographic**: Children aged 6-16 years, parents of school-aged children, schools (as potential institutional buyers).\n",
      "- **Psychographic**: Health-conscious, environmentally aware, parents who value hydration and sustainable products for their children.\n",
      "\n",
      "### Marketing Strategy Budget: $2000\n",
      "\n",
      "### Best Marketing Channels for Maximum Visibility\n",
      "\n",
      "1. **Social Media Marketing ($800)**\n",
      "   - **Platforms**: Instagram, Facebook, and TikTok \n",
      "   - **Strategies**:\n",
      "     - Create engaging and colorful posts showcasing the water bottle in use by children at school.\n",
      "     - Sponsored ads focused on targeting parents of school-aged children.\n",
      "     - Collaborate with micro-influencers or parents who post content about children’s products.\n",
      "     - Create a hashtag challenge on TikTok encouraging kids to share fun ways to drink water during school.\n",
      "\n",
      "2. **Content Marketing & Blogging ($300)**\n",
      "   - **Actions**: Write blog posts on hydration benefits for children, and healthy habit formation.\n",
      "   - **Distribution**: Share these articles through social media, and parenting forums, and employ SEO strategies to drive organic traffic.\n",
      "\n",
      "3. **School Partnerships ($400)**\n",
      "   - **Actions**: Offer water bottles as part of school events, contests, or as promotional items.\n",
      "   - **Budget for sample products**: Allocate $400 for gifting water bottles to local schools.\n",
      "\n",
      "4. **Email Marketing ($200)**\n",
      "   - **Actions**: Collect emails through a landing page where parents can sign up for product information, discounts, and hydration tips. \n",
      "   - Use an email campaign to target parents directly, providing them with attractive offers, and highlighting the product features.\n",
      "\n",
      "5. **Online Marketplaces & E-Commerce ($300)**\n",
      "   - **Actions**: List the product on platforms like Amazon, Etsy, and eBay. Allocate budget for optimizing product listings with SEO-friendly keywords and design appealing images for max engagement.\n",
      "\n",
      "6. **Community Events and School Fairs ($100)**\n",
      "   - **Actions**: Participate in local community events or school fairs to increase brand recognition.\n",
      "   - Allocate for booth setup/marketing materials (flyers, brochures, posters).\n",
      "\n",
      "### Summary of Budget Allocation\n",
      "- **Social Media Marketing**: $800\n",
      "- **Content Marketing & Blogging**: $300\n",
      "- **School Partnerships**: $400\n",
      "- **Email Marketing**: $200\n",
      "- **Online Marketplaces**: $300\n",
      "- **Community Events**: $100\n",
      "\n",
      "### Return on Investment\n",
      "Consider monitoring the effectiveness of each channel by evaluating engagement metrics, sales conversions, and overall brand visibility. Adjust the strategy as needed based on the outcomes.\n",
      "\n",
      "### Conclusion\n",
      "By focusing on targeted digital marketing campaigns, school partnerships, and community involvement, you can create a robust marketing strategy for your water bottle that increases visibility and drives sales efficiently within the $2000 budget.\n",
      "\n",
      "--------------------------------------------------------------------------------\n"
     ]
    },
    {
     "name": "stdin",
     "output_type": "stream",
     "text": [
      "Replying as User. Provide feedback to strategy_creator. Press enter to skip and use auto-reply, or type 'exit' to end the conversation:  budget allocation is not properr\n"
     ]
    },
    {
     "name": "stdout",
     "output_type": "stream",
     "text": [
      "\u001b[33mUser\u001b[0m (to strategy_creator):\n",
      "\n",
      "budget allocation is not properr\n",
      "\n",
      "--------------------------------------------------------------------------------\n",
      "\u001b[33mstrategy_creator\u001b[0m (to User):\n",
      "\n",
      "Thank you for your feedback! Let's revise the budget allocation to ensure it aligns better with maximizing visibility for the water bottle targeted at school children under the age of 16. Here's a restructured allocation while ensuring we stick to the total budget of $2000:\n",
      "\n",
      "### Revised Budget Allocation\n",
      "\n",
      "1. **Social Media Marketing ($800)**\n",
      "   - Platforms: Instagram and Facebook\n",
      "   - Strategies: \n",
      "     - Targeted ads promoting the water bottle’s features (fun designs, health benefits).\n",
      "     - Collaborate with micro-influencers who cater to parents and kids.\n",
      "     - Engaging posts and stories to demonstrate product use.\n",
      "\n",
      "2. **Content Marketing & Blogging ($400)**\n",
      "   - Actions: \n",
      "     - Create informative blog posts and articles about hydration for children.\n",
      "     - Share content on social media and parenting forums to create organic interest.\n",
      "\n",
      "3. **School Partnerships ($500)**\n",
      "   - Actions:\n",
      "     - Offer promotional rates or free samples to local schools.\n",
      "     - Propose educational workshops about hydration where your product might be featured.\n",
      "\n",
      "4. **Email Marketing ($200)**\n",
      "   - Actions:\n",
      "     - Design an engaging email campaign targeting parents collected through a landing page.\n",
      "     - Include product launch offers and hydration tips.\n",
      "\n",
      "5. **Online Marketplaces & E-Commerce ($80)**\n",
      "   - Actions:\n",
      "     - List the product on Amazon or other platforms with a small budget for optimized product listings.\n",
      "\n",
      "6. **Community Events and School Fairs ($20)**\n",
      "   - Actions: \n",
      "     - Allocate for basic materials (flyers, small giveaways) to promote at local events.\n",
      "\n",
      "### Summary of Revised Budget Allocation\n",
      "- **Social Media Marketing**: $800\n",
      "- **Content Marketing & Blogging**: $400\n",
      "- **School Partnerships**: $500\n",
      "- **Email Marketing**: $200\n",
      "- **Online Marketplaces**: $80\n",
      "- **Community Events**: $20\n",
      "\n",
      "### Total = $2000\n",
      "\n",
      "### Conclusion\n",
      "This revised allocation allows for a balanced approach to maximize visibility while focusing on areas that can yield the best returns. Social media remains the largest component to raise awareness, while partnerships and community involvement help establish credibility and build relationships within the target market. Thank you for the opportunity to refine the budget!\n",
      "\n",
      "--------------------------------------------------------------------------------\n"
     ]
    },
    {
     "name": "stdin",
     "output_type": "stream",
     "text": [
      "Replying as User. Provide feedback to strategy_creator. Press enter to skip and use auto-reply, or type 'exit' to end the conversation:  auto-reply\n"
     ]
    },
    {
     "name": "stdout",
     "output_type": "stream",
     "text": [
      "\u001b[33mUser\u001b[0m (to strategy_creator):\n",
      "\n",
      "auto-reply\n",
      "\n",
      "--------------------------------------------------------------------------------\n",
      "\u001b[33mstrategy_creator\u001b[0m (to User):\n",
      "\n",
      "Certainly! Here’s a suggested auto-reply message you could use:\n",
      "\n",
      "---\n",
      "\n",
      "**Auto-Reply Message:**\n",
      "\n",
      "Thank you for reaching out! Your message is important to us. We appreciate your inquiry and will get back to you as soon as possible.\n",
      "\n",
      "If you have questions regarding our water bottle for school children, please check our website or FAQs for more information. \n",
      "\n",
      "Thank you for your patience!\n",
      "\n",
      "Best regards,  \n",
      "[Your Company Name]  \n",
      "[Contact Information]  \n",
      "\n",
      "---\n",
      "\n",
      "Feel free to customize the message to better fit your brand voice and specific details!\n",
      "\n",
      "--------------------------------------------------------------------------------\n"
     ]
    },
    {
     "name": "stdin",
     "output_type": "stream",
     "text": [
      "Replying as User. Provide feedback to strategy_creator. Press enter to skip and use auto-reply, or type 'exit' to end the conversation:  exit\n"
     ]
    },
    {
     "name": "stdout",
     "output_type": "stream",
     "text": [
      "\u001b[31m\n",
      ">>>>>>>> TERMINATING RUN (d78894da-c0da-47f3-9589-c2c65db0a095): User requested to end the conversation\u001b[0m\n",
      "\u001b[34m\n",
      "********************************************************************************\u001b[0m\n",
      "\u001b[34mStarting a new chat....\u001b[0m\n",
      "\u001b[34m\n",
      "********************************************************************************\u001b[0m\n",
      "\u001b[33mUser\u001b[0m (to strategy_creator):\n",
      "\n",
      "Write an engaging content for the mentioned product and channel\n",
      "Context: \n",
      "Certainly! Here’s a suggested auto-reply message you could use:\n",
      "\n",
      "---\n",
      "\n",
      "**Auto-Reply Message:**\n",
      "\n",
      "Thank you for reaching out! Your message is important to us. We appreciate your inquiry and will get back to you as soon as possible.\n",
      "\n",
      "If you have questions regarding our water bottle for school children, please check our website or FAQs for more information. \n",
      "\n",
      "Thank you for your patience!\n",
      "\n",
      "Best regards,  \n",
      "[Your Company Name]  \n",
      "[Contact Information]  \n",
      "\n",
      "---\n",
      "\n",
      "Feel free to customize the message to better fit your brand voice and specific details!\n",
      "\n",
      "--------------------------------------------------------------------------------\n",
      "\u001b[33mstrategy_creator\u001b[0m (to User):\n",
      "\n",
      "**Content for Social Media Post About Water Bottles for School Children**\n",
      "\n",
      "🌟 **Stay Hydrated, Stay Focused! 🌟**\n",
      "\n",
      "Hey Parents! 📚✨ \n",
      "\n",
      "Looking for the perfect companion for your child's school day? Our colorful and durable water bottles are here to keep your little ones hydrated and boost their concentration all day long! 💧🎒 \n",
      "\n",
      "🔹 **Key Features:**\n",
      "- **Leak-Proof Design**: No spills, just smiles! \n",
      "- **Lightweight & Portable**: Easy to carry for tiny hands! \n",
      "- **Fun Designs**: Choose from a variety of colors and characters that your kids will love! 🎨❤️ \n",
      "\n",
      "Plus, they're made from BPA-free materials, ensuring that your child is safe while they sip. \n",
      "\n",
      "💬 **Don’t miss out!** Visit our website and fill your cart with hydration happiness today! If you have questions, check out our FAQs or drop us a message – we're here to help! \n",
      "\n",
      "Let’s make hydration fun! 🚀💦\n",
      "\n",
      "#BackToSchool #HydrationStation #HealthyKids #EcoFriendly #WaterBottles #SchoolEssentials\n",
      "\n",
      "---\n",
      "\n",
      "Feel free to adjust the tone or elements to better fit your brand's style!\n",
      "\n",
      "--------------------------------------------------------------------------------\n"
     ]
    },
    {
     "name": "stdin",
     "output_type": "stream",
     "text": [
      "Replying as User. Provide feedback to strategy_creator. Press enter to skip and use auto-reply, or type 'exit' to end the conversation:  exit\n"
     ]
    },
    {
     "name": "stdout",
     "output_type": "stream",
     "text": [
      "\u001b[31m\n",
      ">>>>>>>> TERMINATING RUN (6b0cf2ea-e6c5-4481-80be-133ae5fac528): User requested to end the conversation\u001b[0m\n"
     ]
    }
   ],
   "source": [
    "chat_result=autogen.initiate_chats([{\"sender\":user_proxy,\n",
    "                                    \"recipient\":strategy_creator,\n",
    "                                    \"message\":product_details[0],\n",
    "                                     \"clear_history\": True,\n",
    "                                     \"silent\":False,\n",
    "                                     \"summary_method\":\"last_msg\",},\n",
    "                                    {\"sender\": user_proxy,\n",
    "                                     \"recipient\": content_creator,\n",
    "                                     \"message\":writing_task[0],\n",
    "                                     \"summary_method\":\"last_msg\",\n",
    "                                    },])"
   ]
  },
  {
   "cell_type": "code",
   "execution_count": 79,
   "id": "746bcd86-fdef-4aae-b1e7-eea181c29836",
   "metadata": {},
   "outputs": [
    {
     "data": {
      "text/markdown": [
       "**Content for Social Media Post About Water Bottles for School Children**\n",
       "\n",
       "🌟 **Stay Hydrated, Stay Focused! 🌟**\n",
       "\n",
       "Hey Parents! 📚✨ \n",
       "\n",
       "Looking for the perfect companion for your child's school day? Our colorful and durable water bottles are here to keep your little ones hydrated and boost their concentration all day long! 💧🎒 \n",
       "\n",
       "🔹 **Key Features:**\n",
       "- **Leak-Proof Design**: No spills, just smiles! \n",
       "- **Lightweight & Portable**: Easy to carry for tiny hands! \n",
       "- **Fun Designs**: Choose from a variety of colors and characters that your kids will love! 🎨❤️ \n",
       "\n",
       "Plus, they're made from BPA-free materials, ensuring that your child is safe while they sip. \n",
       "\n",
       "💬 **Don’t miss out!** Visit our website and fill your cart with hydration happiness today! If you have questions, check out our FAQs or drop us a message – we're here to help! \n",
       "\n",
       "Let’s make hydration fun! 🚀💦\n",
       "\n",
       "#BackToSchool #HydrationStation #HealthyKids #EcoFriendly #WaterBottles #SchoolEssentials\n",
       "\n",
       "---\n",
       "\n",
       "Feel free to adjust the tone or elements to better fit your brand's style!"
      ],
      "text/plain": [
       "<IPython.core.display.Markdown object>"
      ]
     },
     "metadata": {},
     "output_type": "display_data"
    }
   ],
   "source": [
    "display(Markdown(chat_result[1].summary))"
   ]
  },
  {
   "cell_type": "code",
   "execution_count": null,
   "id": "f049d19a-b340-4763-83d6-2f4a5b0040d4",
   "metadata": {},
   "outputs": [],
   "source": []
  },
  {
   "cell_type": "code",
   "execution_count": null,
   "id": "471ba5db-6482-4d80-a889-f779ccc5eaa7",
   "metadata": {},
   "outputs": [],
   "source": []
  }
 ],
 "metadata": {
  "kernelspec": {
   "display_name": "Python [conda env:base] *",
   "language": "python",
   "name": "conda-base-py"
  },
  "language_info": {
   "codemirror_mode": {
    "name": "ipython",
    "version": 3
   },
   "file_extension": ".py",
   "mimetype": "text/x-python",
   "name": "python",
   "nbconvert_exporter": "python",
   "pygments_lexer": "ipython3",
   "version": "3.12.7"
  }
 },
 "nbformat": 4,
 "nbformat_minor": 5
}
